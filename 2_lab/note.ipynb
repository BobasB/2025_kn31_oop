{
 "cells": [
  {
   "cell_type": "markdown",
   "id": "a808d34c",
   "metadata": {},
   "source": [
    "# Основи Python\n",
    "## Основні типи данних"
   ]
  },
  {
   "cell_type": "markdown",
   "id": "723350a2",
   "metadata": {},
   "source": [
    "- починаємо з найпростіших типів, стрічкові дані\n",
    "- як ми задаємо стічки - все що буде в лапках - це буде стрічка\n",
    "- стрічки не можуть виконувати арифметичні операції з числами, навіть якщо стрічка це теж число у вигляді стрічки\n",
    "- явна на неявна конвертація типів даних"
   ]
  },
  {
   "cell_type": "code",
   "execution_count": 1,
   "id": "d9c02c73",
   "metadata": {},
   "outputs": [
    {
     "name": "stdout",
     "output_type": "stream",
     "text": [
      "5 <class 'str'> 5 <class 'int'>\n",
      "7 <class 'int'> 7\n"
     ]
    }
   ],
   "source": [
    "s = 'Це стрічка'\n",
    "s2 = \"Це інша стрічка\"\n",
    "s3 = '''Це ще одна стрічка'''\n",
    "s4 = str(\"Це стрічка в явному вигляді\")\n",
    "s5 = \"5\"\n",
    "i = 5\n",
    "print(s5, type(s5), i, type(i))\n",
    "#TypeError: can only concatenate str (not \"int\") to str\n",
    "# s5 + i\n",
    "s6: str = \"5\"\n",
    "s6 = 7\n",
    "print(s6, type(s6), str(s6).capitalize())"
   ]
  },
  {
   "cell_type": "markdown",
   "id": "c5011dc2",
   "metadata": {},
   "source": [
    "- все в пайтоні є ООП і навіть якщо ми над цим не задумуємось ми ветаки працюємо з класами та обєктами\n",
    "- до обєктів можна застосувати метод `.` та викликати атрибути або методи обєкта"
   ]
  },
  {
   "cell_type": "code",
   "execution_count": 2,
   "id": "29a42821",
   "metadata": {},
   "outputs": [
    {
     "data": {
      "text/plain": [
       "True"
      ]
     },
     "execution_count": 2,
     "metadata": {},
     "output_type": "execute_result"
    }
   ],
   "source": [
    "l = \"Test symbols\"\n",
    "l.isascii()\n",
    "d = \"1234\"\n",
    "d.isdigit()"
   ]
  },
  {
   "cell_type": "markdown",
   "id": "51d83453",
   "metadata": {},
   "source": [
    "### Арифметичні операції з стрічками\n",
    "- довавання двох стрічкох називається конкатенація і це просто їх зчеплення\n",
    "- віднімати не можна, все поломається\n",
    "- множення: слова на слово множити не можна, але можна множити слово на цифру\n",
    "- ділення: помилка\n",
    "- арифметичні дії можливі, тому що стрічки є обєктами і там прописані спеціальні методи"
   ]
  },
  {
   "cell_type": "code",
   "execution_count": 3,
   "id": "91c55b82",
   "metadata": {},
   "outputs": [
    {
     "name": "stdout",
     "output_type": "stream",
     "text": [
      "Слово, інше слово\n",
      "<^><^><^><^><^><^><^><^><^><^>\n",
      "Гарний вивід тексту\n",
      "<_><_><_><_><_><_><_><_><_><_>\n",
      "Словоінше слово Це те саме що:  Словоінше слово\n"
     ]
    },
    {
     "data": {
      "text/plain": [
       "False"
      ]
     },
     "execution_count": 3,
     "metadata": {},
     "output_type": "execute_result"
    }
   ],
   "source": [
    "c1 = \"Слово\"\n",
    "c2 = \"інше слово\"\n",
    "c3 = c1 + \", \" + c2\n",
    "print(c3)\n",
    "# c3 = c1 - c2 # TypeError: unsupported operand type(s) for -: 'str' and 'str'\n",
    "print(10*\"<^>\" + \"\\n\" + \"Гарний вивід тексту\\n\" + 10*\"<_>\")\n",
    "print(c1.__add__(c2), \"Це те саме що: \", c1 + c2)\n",
    "c1.__eq__(c2)"
   ]
  },
  {
   "cell_type": "markdown",
   "id": "3cd093db",
   "metadata": {},
   "source": [
    "## Числові типи даних\n",
    "- цілі числі та з полаваючою крапкою\n",
    "- можемо виконувати всі арифметичні операції та деякі цікаві дії\n",
    "> В Python оператор // — це оператор цілочисельного ділення (floor division). Він ділить одне число на інше і повертає цілу частину результату, відкидаючи дробову частину. 7 // 3 поверне 2 (бо 7 / 3 = 2.333..., а // залишає тільки 2)\n",
    "> В Python оператор % — це оператор остачі від ділення (modulo). Він повертає залишок після ділення одного числа на інше. 7 % 3 поверне 1 (бо 7 = 2 * 3 + 1, залишок — 1)\n",
    "- над числами можна виконувати логічні операції"
   ]
  },
  {
   "cell_type": "code",
   "execution_count": null,
   "id": "f0592b5f",
   "metadata": {},
   "outputs": [
    {
     "name": "stdout",
     "output_type": "stream",
     "text": [
      "<class 'int'> <class 'float'> Чи ці два числі будуть рівними:  True False\n",
      "11 0 1 Піднесення в степінь:  4\n"
     ]
    }
   ],
   "source": [
    "i = 1\n",
    "f = 1.0\n",
    "print(type(i), type(f), \"Чи ці два числі будуть рівними: \", i == f, i is f)\n",
    "o = 1 + 4j\n",
    "type(o)\n",
    "\n",
    "a = i + 2\n",
    "i = i + 5\n",
    "i += 5 # інкремент\n",
    "print(i, 1//2, 1%2, \"Піднесення в степінь: \", 2**2)"
   ]
  },
  {
   "cell_type": "code",
   "execution_count": 28,
   "id": "955abb43",
   "metadata": {},
   "outputs": [
    {
     "name": "stdout",
     "output_type": "stream",
     "text": [
      "0 1 False -2\n"
     ]
    }
   ],
   "source": [
    "k = 1 & 1 & 0 and 1\n",
    "m = 1 | 0 | 1 or 0\n",
    "\n",
    "print(k, m, not True, ~1)\n"
   ]
  },
  {
   "cell_type": "markdown",
   "id": "ba1fff03",
   "metadata": {},
   "source": [
    "## Колекції\n",
    "- колекціями називаються типи які можуть в собі мати інші типи даних, або їх набори\n",
    "- list - впорядковані змінні набори даних\n",
    "- на співбесідах дуже часто запитують як поміняти порядок в списку на протилежний"
   ]
  },
  {
   "cell_type": "code",
   "execution_count": null,
   "id": "3c93759e",
   "metadata": {},
   "outputs": [
    {
     "name": "stdout",
     "output_type": "stream",
     "text": [
      "Це ми хочемо вивести по індексу <class 'list'>\n",
      "[1, '1', 1.0, [1, 2, 'Це ми хочемо вивести по індексу'], 0] \n",
      " Це ми хочемо вивести по індексу\n",
      "[['Нуль', 0], '1', 1.0, [1, 2, 'Це ми хочемо вивести по індексу'], 0]\n"
     ]
    }
   ],
   "source": [
    "l = [1, \"1\", \"один\", 1.0, [1, 2, \"Це ми хочемо вивести по індексу\"], 0]\n",
    "print(l[4][2], type(l))\n",
    "l.append(\"Новий елемент\")\n",
    "l.remove(\"один\")\n",
    "l.pop()\n",
    "print(l, \"\\n\", l[3][2])\n",
    "l[0] = [\"Нуль\", 0]\n",
    "print(l)"
   ]
  },
  {
   "cell_type": "code",
   "execution_count": 44,
   "id": "86a402a9",
   "metadata": {},
   "outputs": [
    {
     "name": "stdout",
     "output_type": "stream",
     "text": [
      "[1, 5, 8, 0] [0, 8, 5, 1]\n",
      "ротор = ротор - це поліндром\n",
      "тест = тсет - це не поліндром\n",
      "казак = казак - це поліндром\n",
      "мадам = мадам - це поліндром\n",
      "python = nohtyp - це не поліндром\n",
      "анна = анна - це поліндром\n",
      "123321 = 123321 - це поліндром\n"
     ]
    }
   ],
   "source": [
    "rv = [1, 5, 8, 0]\n",
    "rl = rv[::-1]\n",
    "print(rv, rl)\n",
    "# задача на знаходження поліндромів\n",
    "words = [\"ротор\", \"тест\", \"казак\", \"мадам\", \"python\", \"анна\", \"123321\"]\n",
    "for w in words:\n",
    "    w1 = w\n",
    "    w2 = w[::-1]\n",
    "    if w1 == w2:\n",
    "        print(f\"{w1} = {w2} - це поліндром\")\n",
    "    else:\n",
    "        print(f\"{w1} = {w2} - це не поліндром\")"
   ]
  },
  {
   "cell_type": "markdown",
   "id": "1ac9aa00",
   "metadata": {},
   "source": [
    "- стічки деколи поводяться як списки\n",
    "- слайсинг - виокремлення підмножини (набір) з цілого"
   ]
  },
  {
   "cell_type": "code",
   "execution_count": 50,
   "id": "8fe7fe6d",
   "metadata": {},
   "outputs": [
    {
     "name": "stdout",
     "output_type": "stream",
     "text": [
      "Ц у стрічка слайсингу\n"
     ]
    }
   ],
   "source": [
    "s = 'Це стрічка для слайсингу'\n",
    "\n",
    "print(s[0], s[-1], s[3:10], s[-9:])"
   ]
  }
 ],
 "metadata": {
  "kernelspec": {
   "display_name": "3.13.7",
   "language": "python",
   "name": "python3"
  },
  "language_info": {
   "codemirror_mode": {
    "name": "ipython",
    "version": 3
   },
   "file_extension": ".py",
   "mimetype": "text/x-python",
   "name": "python",
   "nbconvert_exporter": "python",
   "pygments_lexer": "ipython3",
   "version": "3.13.7"
  }
 },
 "nbformat": 4,
 "nbformat_minor": 5
}
