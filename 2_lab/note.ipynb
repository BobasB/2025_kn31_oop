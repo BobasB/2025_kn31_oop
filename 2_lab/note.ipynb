{
 "cells": [
  {
   "cell_type": "markdown",
   "id": "a808d34c",
   "metadata": {},
   "source": [
    "# Основи Python\n",
    "## Основні типи данних"
   ]
  },
  {
   "cell_type": "markdown",
   "id": "723350a2",
   "metadata": {},
   "source": [
    "- починаємо з найпростіших типів, стрічкові дані\n",
    "- як ми задаємо стічки - все що буде в лапках - це буде стрічка\n",
    "- стрічки не можуть виконувати арифметичні операції з числами, навіть якщо стрічка це теж число у вигляді стрічки\n",
    "- явна на неявна конвертація типів даних"
   ]
  },
  {
   "cell_type": "code",
   "execution_count": 2,
   "id": "d9c02c73",
   "metadata": {},
   "outputs": [
    {
     "name": "stdout",
     "output_type": "stream",
     "text": [
      "5 <class 'str'> 5 <class 'int'>\n",
      "7 <class 'int'> 7\n"
     ]
    }
   ],
   "source": [
    "s = 'Це стрічка'\n",
    "s2 = \"Це інша стрічка\"\n",
    "s3 = '''Це ще одна стрічка'''\n",
    "s4 = str(\"Це стрічка в явному вигляді\")\n",
    "s5 = \"5\"\n",
    "i = 5\n",
    "print(s5, type(s5), i, type(i))\n",
    "#TypeError: can only concatenate str (not \"int\") to str\n",
    "# s5 + i\n",
    "s6: str = \"5\"\n",
    "s6 = 7\n",
    "print(s6, type(s6), str(s6).capitalize())"
   ]
  },
  {
   "cell_type": "markdown",
   "id": "c5011dc2",
   "metadata": {},
   "source": [
    "- все п пайтоні є ООП і навіть якщо ми над цим не задумуємось ми ветаки працюємо з класами та обєктами\n",
    "- до обєктів можна застосувати метод `.` та викликати атрибути або методи обєкта"
   ]
  },
  {
   "cell_type": "code",
   "execution_count": 6,
   "id": "29a42821",
   "metadata": {},
   "outputs": [
    {
     "data": {
      "text/plain": [
       "True"
      ]
     },
     "execution_count": 6,
     "metadata": {},
     "output_type": "execute_result"
    }
   ],
   "source": [
    "l = \"Test symbols\"\n",
    "l.isascii()\n",
    "d = \"1234\"\n",
    "d.isdigit()"
   ]
  },
  {
   "cell_type": "markdown",
   "id": "51d83453",
   "metadata": {},
   "source": [
    "### Арифметичні операції з стрічками\n",
    "- довавання двох стрічкох називається конкатенація і це просто їх зчеплення\n",
    "- віднімати не можна, все поломається\n",
    "- множення: слова на слово множити не можна, але можна множити слово на цифру\n",
    "- ділення: помилка\n",
    "- арифметичні дії можливі, тому що стрічки є обєктами і там прописані спеціальні методи"
   ]
  },
  {
   "cell_type": "code",
   "execution_count": 15,
   "id": "91c55b82",
   "metadata": {},
   "outputs": [
    {
     "name": "stdout",
     "output_type": "stream",
     "text": [
      "Слово, інше слово\n",
      "<^><^><^><^><^><^><^><^><^><^>\n",
      "Гарний вивід тексту\n",
      "<_><_><_><_><_><_><_><_><_><_>\n",
      "Словоінше слово Це те саме що:  Словоінше слово\n"
     ]
    },
    {
     "data": {
      "text/plain": [
       "False"
      ]
     },
     "execution_count": 15,
     "metadata": {},
     "output_type": "execute_result"
    }
   ],
   "source": [
    "c1 = \"Слово\"\n",
    "c2 = \"інше слово\"\n",
    "c3 = c1 + \", \" + c2\n",
    "print(c3)\n",
    "# c3 = c1 - c2 # TypeError: unsupported operand type(s) for -: 'str' and 'str'\n",
    "print(10*\"<^>\" + \"\\n\" + \"Гарний вивід тексту\\n\" + 10*\"<_>\")\n",
    "print(c1.__add__(c2), \"Це те саме що: \", c1 + c2)\n",
    "c1.__eq__(c2)"
   ]
  },
  {
   "cell_type": "markdown",
   "id": "3cd093db",
   "metadata": {},
   "source": [
    "## Числові типи даних"
   ]
  }
 ],
 "metadata": {
  "kernelspec": {
   "display_name": "3.13.7",
   "language": "python",
   "name": "python3"
  },
  "language_info": {
   "codemirror_mode": {
    "name": "ipython",
    "version": 3
   },
   "file_extension": ".py",
   "mimetype": "text/x-python",
   "name": "python",
   "nbconvert_exporter": "python",
   "pygments_lexer": "ipython3",
   "version": "3.13.7"
  }
 },
 "nbformat": 4,
 "nbformat_minor": 5
}
