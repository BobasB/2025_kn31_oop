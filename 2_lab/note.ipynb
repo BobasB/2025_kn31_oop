{
 "cells": [
  {
   "cell_type": "markdown",
   "id": "a808d34c",
   "metadata": {},
   "source": [
    "# Основи Python\n",
    "## Основні типи данних"
   ]
  },
  {
   "cell_type": "markdown",
   "id": "723350a2",
   "metadata": {},
   "source": [
    "- починаємо з найпростіших типів, стрічкові дані\n",
    "- як ми задаємо стічки - все що буде в лапках - це буде стрічка\n",
    "- стрічки не можуть виконувати арифметичні операції з числами, навіть якщо стрічка це теж число у вигляді стрічки\n",
    "- явна на неявна конвертація типів даних"
   ]
  },
  {
   "cell_type": "code",
   "execution_count": 1,
   "id": "d9c02c73",
   "metadata": {},
   "outputs": [
    {
     "name": "stdout",
     "output_type": "stream",
     "text": [
      "5 <class 'str'> 5 <class 'int'>\n",
      "7 <class 'int'> 7\n"
     ]
    }
   ],
   "source": [
    "s = 'Це стрічка'\n",
    "s2 = \"Це інша стрічка\"\n",
    "s3 = '''Це ще одна стрічка'''\n",
    "s4 = str(\"Це стрічка в явному вигляді\")\n",
    "s5 = \"5\"\n",
    "i = 5\n",
    "print(s5, type(s5), i, type(i))\n",
    "#TypeError: can only concatenate str (not \"int\") to str\n",
    "# s5 + i\n",
    "s6: str = \"5\"\n",
    "s6 = 7\n",
    "print(s6, type(s6), str(s6).capitalize())"
   ]
  },
  {
   "cell_type": "markdown",
   "id": "c5011dc2",
   "metadata": {},
   "source": [
    "- все в пайтоні є ООП і навіть якщо ми над цим не задумуємось ми ветаки працюємо з класами та обєктами\n",
    "- до обєктів можна застосувати метод `.` та викликати атрибути або методи обєкта"
   ]
  },
  {
   "cell_type": "code",
   "execution_count": 2,
   "id": "29a42821",
   "metadata": {},
   "outputs": [
    {
     "data": {
      "text/plain": [
       "True"
      ]
     },
     "execution_count": 2,
     "metadata": {},
     "output_type": "execute_result"
    }
   ],
   "source": [
    "l = \"Test symbols\"\n",
    "l.isascii()\n",
    "d = \"1234\"\n",
    "d.isdigit()"
   ]
  },
  {
   "cell_type": "markdown",
   "id": "51d83453",
   "metadata": {},
   "source": [
    "### Арифметичні операції з стрічками\n",
    "- довавання двох стрічкох називається конкатенація і це просто їх зчеплення\n",
    "- віднімати не можна, все поломається\n",
    "- множення: слова на слово множити не можна, але можна множити слово на цифру\n",
    "- ділення: помилка\n",
    "- арифметичні дії можливі, тому що стрічки є обєктами і там прописані спеціальні методи"
   ]
  },
  {
   "cell_type": "code",
   "execution_count": 3,
   "id": "91c55b82",
   "metadata": {},
   "outputs": [
    {
     "name": "stdout",
     "output_type": "stream",
     "text": [
      "Слово, інше слово\n",
      "<^><^><^><^><^><^><^><^><^><^>\n",
      "Гарний вивід тексту\n",
      "<_><_><_><_><_><_><_><_><_><_>\n",
      "Словоінше слово Це те саме що:  Словоінше слово\n"
     ]
    },
    {
     "data": {
      "text/plain": [
       "False"
      ]
     },
     "execution_count": 3,
     "metadata": {},
     "output_type": "execute_result"
    }
   ],
   "source": [
    "c1 = \"Слово\"\n",
    "c2 = \"інше слово\"\n",
    "c3 = c1 + \", \" + c2\n",
    "print(c3)\n",
    "# c3 = c1 - c2 # TypeError: unsupported operand type(s) for -: 'str' and 'str'\n",
    "print(10*\"<^>\" + \"\\n\" + \"Гарний вивід тексту\\n\" + 10*\"<_>\")\n",
    "print(c1.__add__(c2), \"Це те саме що: \", c1 + c2)\n",
    "c1.__eq__(c2)"
   ]
  },
  {
   "cell_type": "markdown",
   "id": "3cd093db",
   "metadata": {},
   "source": [
    "## Числові типи даних\n",
    "- цілі числі та з полаваючою крапкою\n",
    "- можемо виконувати всі арифметичні операції та деякі цікаві дії\n",
    "> В Python оператор // — це оператор цілочисельного ділення (floor division). Він ділить одне число на інше і повертає цілу частину результату, відкидаючи дробову частину. 7 // 3 поверне 2 (бо 7 / 3 = 2.333..., а // залишає тільки 2)\n",
    "> В Python оператор % — це оператор остачі від ділення (modulo). Він повертає залишок після ділення одного числа на інше. 7 % 3 поверне 1 (бо 7 = 2 * 3 + 1, залишок — 1)\n",
    "- над числами можна виконувати логічні операції"
   ]
  },
  {
   "cell_type": "code",
   "execution_count": null,
   "id": "f0592b5f",
   "metadata": {},
   "outputs": [
    {
     "name": "stdout",
     "output_type": "stream",
     "text": [
      "<class 'int'> <class 'float'> Чи ці два числі будуть рівними:  True False\n",
      "11 0 1 Піднесення в степінь:  4\n"
     ]
    }
   ],
   "source": [
    "i = 1\n",
    "f = 1.0\n",
    "print(type(i), type(f), \"Чи ці два числі будуть рівними: \", i == f, i is f)\n",
    "o = 1 + 4j\n",
    "type(o)\n",
    "\n",
    "a = i + 2\n",
    "i = i + 5\n",
    "i += 5 # інкремент\n",
    "print(i, 1//2, 1%2, \"Піднесення в степінь: \", 2**2)"
   ]
  },
  {
   "cell_type": "code",
   "execution_count": 28,
   "id": "955abb43",
   "metadata": {},
   "outputs": [
    {
     "name": "stdout",
     "output_type": "stream",
     "text": [
      "0 1 False -2\n"
     ]
    }
   ],
   "source": [
    "k = 1 & 1 & 0 and 1\n",
    "m = 1 | 0 | 1 or 0\n",
    "\n",
    "print(k, m, not True, ~1)\n"
   ]
  },
  {
   "cell_type": "markdown",
   "id": "ba1fff03",
   "metadata": {},
   "source": [
    "## Колекції\n",
    "- колекціями називаються типи які можуть в собі мати інші типи даних, або їх набори\n",
    "- list - впорядковані змінні набори даних\n",
    "- на співбесідах дуже часто запитують як поміняти порядок в списку на протилежний"
   ]
  },
  {
   "cell_type": "code",
   "execution_count": null,
   "id": "3c93759e",
   "metadata": {},
   "outputs": [
    {
     "name": "stdout",
     "output_type": "stream",
     "text": [
      "Це ми хочемо вивести по індексу <class 'list'>\n",
      "[1, '1', 1.0, [1, 2, 'Це ми хочемо вивести по індексу'], 0] \n",
      " Це ми хочемо вивести по індексу\n",
      "[['Нуль', 0], '1', 1.0, [1, 2, 'Це ми хочемо вивести по індексу'], 0]\n"
     ]
    }
   ],
   "source": [
    "l = [1, \"1\", \"один\", 1.0, [1, 2, \"Це ми хочемо вивести по індексу\"], 0]\n",
    "print(l[4][2], type(l))\n",
    "l.append(\"Новий елемент\")\n",
    "l.remove(\"один\")\n",
    "l.pop()\n",
    "print(l, \"\\n\", l[3][2])\n",
    "l[0] = [\"Нуль\", 0]\n",
    "print(l)"
   ]
  },
  {
   "cell_type": "code",
   "execution_count": 44,
   "id": "86a402a9",
   "metadata": {},
   "outputs": [
    {
     "name": "stdout",
     "output_type": "stream",
     "text": [
      "[1, 5, 8, 0] [0, 8, 5, 1]\n",
      "ротор = ротор - це поліндром\n",
      "тест = тсет - це не поліндром\n",
      "казак = казак - це поліндром\n",
      "мадам = мадам - це поліндром\n",
      "python = nohtyp - це не поліндром\n",
      "анна = анна - це поліндром\n",
      "123321 = 123321 - це поліндром\n"
     ]
    }
   ],
   "source": [
    "rv = [1, 5, 8, 0]\n",
    "rl = rv[::-1]\n",
    "print(rv, rl)\n",
    "# задача на знаходження поліндромів\n",
    "words = [\"ротор\", \"тест\", \"казак\", \"мадам\", \"python\", \"анна\", \"123321\"]\n",
    "for w in words:\n",
    "    w1 = w\n",
    "    w2 = w[::-1]\n",
    "    if w1 == w2:\n",
    "        print(f\"{w1} = {w2} - це поліндром\")\n",
    "    else:\n",
    "        print(f\"{w1} = {w2} - це не поліндром\")"
   ]
  },
  {
   "cell_type": "markdown",
   "id": "1ac9aa00",
   "metadata": {},
   "source": [
    "- стічки деколи поводяться як списки\n",
    "- слайсинг - виокремлення підмножини (набір) з цілого"
   ]
  },
  {
   "cell_type": "code",
   "execution_count": 50,
   "id": "8fe7fe6d",
   "metadata": {},
   "outputs": [
    {
     "name": "stdout",
     "output_type": "stream",
     "text": [
      "Ц у стрічка слайсингу\n"
     ]
    }
   ],
   "source": [
    "s = 'Це стрічка для слайсингу'\n",
    "\n",
    "print(s[0], s[-1], s[3:10], s[-9:])"
   ]
  },
  {
   "cell_type": "markdown",
   "id": "b4604843",
   "metadata": {},
   "source": [
    "- другий тип - tuples - впорядкована колекція незмінних (immutable) елементів"
   ]
  },
  {
   "cell_type": "code",
   "execution_count": 4,
   "id": "5a951ac7",
   "metadata": {},
   "outputs": [
    {
     "name": "stdout",
     "output_type": "stream",
     "text": [
      "3\n",
      "[1, 2, 3, 'test', [1, 2, 3], (4, 5, 6), 'Новий елемент']\n",
      "елемент\n"
     ]
    }
   ],
   "source": [
    "t = (1, 2, 3, \"test\", [1, 2, 3], (4, 5, 6))\n",
    "print(t.index(\"test\"))\n",
    "l = list(t)\n",
    "l.append(\"Новий елемент\")\n",
    "print(l)\n",
    "t = tuple(l)\n",
    "print(t[-1][-7:])"
   ]
  },
  {
   "cell_type": "markdown",
   "id": "2713b7a1",
   "metadata": {},
   "source": [
    "- наступні - set - набори - невпорядковані унікальні дані (недопускаються повтори елементів)\n",
    "- pythonic way - так називаються tip and tricks щоб полегшити написання коду на Пайтон"
   ]
  },
  {
   "cell_type": "code",
   "execution_count": null,
   "id": "1f04c22c",
   "metadata": {},
   "outputs": [
    {
     "name": "stdout",
     "output_type": "stream",
     "text": [
      "{1, '1', 3, 'два', 'три', 'один'}\n",
      "{1, 2, 3, 4}\n",
      "{0, 1, 2.0}\n",
      "0\n"
     ]
    }
   ],
   "source": [
    "s = {1, 'один', \"1\", 'два', 'три', 3, 'три', 3}\n",
    "print(s)\n",
    "l = list([1, 1 , 2 , 2, 3, 3, 4, 4])\n",
    "print(set(l))\n",
    "\n",
    "s2 = {1, True, 0, False, 1.0, 2.0, 2}\n",
    "print(s2)\n",
    "\n",
    "print(s2.pop()) # але не можемо доступатись по індексах s2[0]"
   ]
  },
  {
   "cell_type": "markdown",
   "id": "fa1a0240",
   "metadata": {},
   "source": [
    "- словники - dict - це завжди пари - ключ=значення\n",
    "- всі ключі мають бути унікальними"
   ]
  },
  {
   "cell_type": "code",
   "execution_count": 22,
   "id": "d8d6859a",
   "metadata": {},
   "outputs": [
    {
     "name": "stdout",
     "output_type": "stream",
     "text": [
      "один <class 'dict'> 10 Це під ключем нуль {0: 10, 10: 'Особливий вивід', '0': 'один', 'нуль': 'Це під ключем нуль', 1: 'два', 2: 'три'}\n",
      "[0, 10, '0', 'нуль', 1, 2] Особливий вивід Особливий вивід\n"
     ]
    }
   ],
   "source": [
    "l = [\"один\", \"два\", \"три\"]\n",
    "d = {0: \"один\", 0: \"0\", False: 5+5, 5+5: \"Особливий вивід\", \"0\": \"один\", \"нуль\": \"Це під ключем нуль\", 1: \"два\", 2: \"три\"}\n",
    "print(l[0], type(d), d[0], d[\"нуль\"], d)\n",
    "print(list(d.keys()), d[5+5], d[10])"
   ]
  },
  {
   "cell_type": "markdown",
   "id": "d5b7c445",
   "metadata": {},
   "source": [
    "## Вбудовані константи та конструкції мови та вбудовані функції\n",
    "- зарезервовані слова не можна використовувати для змінних\n",
    "- особлива контанта None\n",
    "- вбудовані функції існують зразу у пайтоні але їх можна перевизначити"
   ]
  },
  {
   "cell_type": "code",
   "execution_count": 6,
   "id": "1d9a6b23",
   "metadata": {},
   "outputs": [
    {
     "name": "stdout",
     "output_type": "stream",
     "text": [
      "None <class 'NoneType'>\n",
      "5 <class 'int'>\n",
      "Значення під None\n",
      "Help on class list in module builtins:\n",
      "\n",
      "class list(object)\n",
      " |  list(iterable=(), /)\n",
      " |\n",
      " |  Built-in mutable sequence.\n",
      " |\n",
      " |  If no argument is given, the constructor creates a new empty list.\n",
      " |  The argument must be an iterable if specified.\n",
      " |\n",
      " |  Methods defined here:\n",
      " |\n",
      " |  __add__(self, value, /)\n",
      " |      Return self+value.\n",
      " |\n",
      " |  __contains__(self, key, /)\n",
      " |      Return bool(key in self).\n",
      " |\n",
      " |  __delitem__(self, key, /)\n",
      " |      Delete self[key].\n",
      " |\n",
      " |  __eq__(self, value, /)\n",
      " |      Return self==value.\n",
      " |\n",
      " |  __ge__(self, value, /)\n",
      " |      Return self>=value.\n",
      " |\n",
      " |  __getattribute__(self, name, /)\n",
      " |      Return getattr(self, name).\n",
      " |\n",
      " |  __getitem__(self, index, /)\n",
      " |      Return self[index].\n",
      " |\n",
      " |  __gt__(self, value, /)\n",
      " |      Return self>value.\n",
      " |\n",
      " |  __iadd__(self, value, /)\n",
      " |      Implement self+=value.\n",
      " |\n",
      " |  __imul__(self, value, /)\n",
      " |      Implement self*=value.\n",
      " |\n",
      " |  __init__(self, /, *args, **kwargs)\n",
      " |      Initialize self.  See help(type(self)) for accurate signature.\n",
      " |\n",
      " |  __iter__(self, /)\n",
      " |      Implement iter(self).\n",
      " |\n",
      " |  __le__(self, value, /)\n",
      " |      Return self<=value.\n",
      " |\n",
      " |  __len__(self, /)\n",
      " |      Return len(self).\n",
      " |\n",
      " |  __lt__(self, value, /)\n",
      " |      Return self<value.\n",
      " |\n",
      " |  __mul__(self, value, /)\n",
      " |      Return self*value.\n",
      " |\n",
      " |  __ne__(self, value, /)\n",
      " |      Return self!=value.\n",
      " |\n",
      " |  __repr__(self, /)\n",
      " |      Return repr(self).\n",
      " |\n",
      " |  __reversed__(self, /)\n",
      " |      Return a reverse iterator over the list.\n",
      " |\n",
      " |  __rmul__(self, value, /)\n",
      " |      Return value*self.\n",
      " |\n",
      " |  __setitem__(self, key, value, /)\n",
      " |      Set self[key] to value.\n",
      " |\n",
      " |  __sizeof__(self, /)\n",
      " |      Return the size of the list in memory, in bytes.\n",
      " |\n",
      " |  append(self, object, /)\n",
      " |      Append object to the end of the list.\n",
      " |\n",
      " |  clear(self, /)\n",
      " |      Remove all items from list.\n",
      " |\n",
      " |  copy(self, /)\n",
      " |      Return a shallow copy of the list.\n",
      " |\n",
      " |  count(self, value, /)\n",
      " |      Return number of occurrences of value.\n",
      " |\n",
      " |  extend(self, iterable, /)\n",
      " |      Extend list by appending elements from the iterable.\n",
      " |\n",
      " |  index(self, value, start=0, stop=9223372036854775807, /)\n",
      " |      Return first index of value.\n",
      " |\n",
      " |      Raises ValueError if the value is not present.\n",
      " |\n",
      " |  insert(self, index, object, /)\n",
      " |      Insert object before index.\n",
      " |\n",
      " |  pop(self, index=-1, /)\n",
      " |      Remove and return item at index (default last).\n",
      " |\n",
      " |      Raises IndexError if list is empty or index is out of range.\n",
      " |\n",
      " |  remove(self, value, /)\n",
      " |      Remove first occurrence of value.\n",
      " |\n",
      " |      Raises ValueError if the value is not present.\n",
      " |\n",
      " |  reverse(self, /)\n",
      " |      Reverse *IN PLACE*.\n",
      " |\n",
      " |  sort(self, /, *, key=None, reverse=False)\n",
      " |      Sort the list in ascending order and return None.\n",
      " |\n",
      " |      The sort is in-place (i.e. the list itself is modified) and stable (i.e. the\n",
      " |      order of two equal elements is maintained).\n",
      " |\n",
      " |      If a key function is given, apply it once to each list item and sort them,\n",
      " |      ascending or descending, according to their function values.\n",
      " |\n",
      " |      The reverse flag can be set to sort in descending order.\n",
      " |\n",
      " |  ----------------------------------------------------------------------\n",
      " |  Class methods defined here:\n",
      " |\n",
      " |  __class_getitem__(object, /)\n",
      " |      See PEP 585\n",
      " |\n",
      " |  ----------------------------------------------------------------------\n",
      " |  Static methods defined here:\n",
      " |\n",
      " |  __new__(*args, **kwargs)\n",
      " |      Create and return a new object.  See help(type) for accurate signature.\n",
      " |\n",
      " |  ----------------------------------------------------------------------\n",
      " |  Data and other attributes defined here:\n",
      " |\n",
      " |  __hash__ = None\n",
      "\n"
     ]
    }
   ],
   "source": [
    "#class = 1 #SyntaxError: invalid syntax\n",
    "a = None\n",
    "print(a, type(a))\n",
    "a = 5\n",
    "print(a, type(a))\n",
    "d = {None: \"Значення під None\", 1: \"Значення під 1\"}\n",
    "print(d[None])\n",
    "#None = 5 # SyntaxError: cannot assign to None\n",
    "#print = 5 #Так робити не можна\n",
    "#print(print)\n",
    "t = map(type, [\"Вивід через map\", \"Ще один рядок\", 1, 6.8])\n",
    "list(t)\n",
    "help(list)"
   ]
  }
 ],
 "metadata": {
  "kernelspec": {
   "display_name": "3.13.7",
   "language": "python",
   "name": "python3"
  },
  "language_info": {
   "codemirror_mode": {
    "name": "ipython",
    "version": 3
   },
   "file_extension": ".py",
   "mimetype": "text/x-python",
   "name": "python",
   "nbconvert_exporter": "python",
   "pygments_lexer": "ipython3",
   "version": "3.13.7"
  }
 },
 "nbformat": 4,
 "nbformat_minor": 5
}
