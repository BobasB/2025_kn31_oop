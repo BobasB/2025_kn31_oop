{
 "cells": [
  {
   "cell_type": "markdown",
   "id": "a808d34c",
   "metadata": {},
   "source": [
    "# Основи Python\n",
    "## Основні типи данних"
   ]
  },
  {
   "cell_type": "markdown",
   "id": "723350a2",
   "metadata": {},
   "source": [
    "- починаємо з найпростіших типів, стрічкові дані\n",
    "- як ми задаємо стічки - все що буде в лапках - це буде стрічка\n",
    "- стрічки не можуть виконувати арифметичні операції з числами, навіть якщо стрічка це теж число у вигляді стрічки\n",
    "- явна на неявна конвертація типів даних"
   ]
  },
  {
   "cell_type": "code",
   "execution_count": null,
   "id": "d9c02c73",
   "metadata": {},
   "outputs": [],
   "source": [
    "s = 'Це стрічка'\n",
    "s2 = \"Це інша стрічка\"\n",
    "s3 = '''Це ще одна стрічка'''\n",
    "s4 = str(\"Це стрічка в явному вигляді\")\n",
    "s5 = \"5\"\n",
    "i = 5\n",
    "print(s5, type(s5), i, type(i))\n",
    "#TypeError: can only concatenate str (not \"int\") to str\n",
    "# s5 + i\n",
    "s6: str = \"5\"\n",
    "s6 = 7\n",
    "print(s6, type(s6), str(s6).capitalize())"
   ]
  },
  {
   "cell_type": "markdown",
   "id": "c5011dc2",
   "metadata": {},
   "source": [
    "- все в пайтоні є ООП і навіть якщо ми над цим не задумуємось ми ветаки працюємо з класами та обєктами\n",
    "- до обєктів можна застосувати метод `.` та викликати атрибути або методи обєкта"
   ]
  },
  {
   "cell_type": "code",
   "execution_count": null,
   "id": "29a42821",
   "metadata": {},
   "outputs": [],
   "source": [
    "l = \"Test symbols\"\n",
    "l.isascii()\n",
    "d = \"1234\"\n",
    "d.isdigit()"
   ]
  },
  {
   "cell_type": "markdown",
   "id": "51d83453",
   "metadata": {},
   "source": [
    "### Арифметичні операції з стрічками\n",
    "- довавання двох стрічкох називається конкатенація і це просто їх зчеплення\n",
    "- віднімати не можна, все поломається\n",
    "- множення: слова на слово множити не можна, але можна множити слово на цифру\n",
    "- ділення: помилка\n",
    "- арифметичні дії можливі, тому що стрічки є обєктами і там прописані спеціальні методи"
   ]
  },
  {
   "cell_type": "code",
   "execution_count": null,
   "id": "91c55b82",
   "metadata": {},
   "outputs": [],
   "source": [
    "c1 = \"Слово\"\n",
    "c2 = \"інше слово\"\n",
    "c3 = c1 + \", \" + c2\n",
    "print(c3)\n",
    "# c3 = c1 - c2 # TypeError: unsupported operand type(s) for -: 'str' and 'str'\n",
    "print(10*\"<^>\" + \"\\n\" + \"Гарний вивід тексту\\n\" + 10*\"<_>\")\n",
    "print(c1.__add__(c2), \"Це те саме що: \", c1 + c2)\n",
    "c1.__eq__(c2)"
   ]
  },
  {
   "cell_type": "markdown",
   "id": "3cd093db",
   "metadata": {},
   "source": [
    "## Числові типи даних\n",
    "- цілі числі та з полаваючою крапкою\n",
    "- можемо виконувати всі арифметичні операції та деякі цікаві дії\n",
    "> В Python оператор // — це оператор цілочисельного ділення (floor division). Він ділить одне число на інше і повертає цілу частину результату, відкидаючи дробову частину. 7 // 3 поверне 2 (бо 7 / 3 = 2.333..., а // залишає тільки 2)\n",
    "> В Python оператор % — це оператор остачі від ділення (modulo). Він повертає залишок після ділення одного числа на інше. 7 % 3 поверне 1 (бо 7 = 2 * 3 + 1, залишок — 1)\n",
    "- над числами можна виконувати логічні операції"
   ]
  },
  {
   "cell_type": "code",
   "execution_count": null,
   "id": "f0592b5f",
   "metadata": {},
   "outputs": [],
   "source": [
    "i = 1\n",
    "f = 1.0\n",
    "print(type(i), type(f), \"Чи ці два числі будуть рівними: \", i == f, i is f)\n",
    "o = 1 + 4j\n",
    "type(o)\n",
    "\n",
    "a = i + 2\n",
    "i = i + 5\n",
    "i += 5 # інкремент\n",
    "print(i, 1//2, 1%2, \"Піднесення в степінь: \", 2**2)"
   ]
  },
  {
   "cell_type": "code",
   "execution_count": null,
   "id": "955abb43",
   "metadata": {},
   "outputs": [],
   "source": [
    "k = 1 & 1 & 0 and 1\n",
    "m = 1 | 0 | 1 or 0\n",
    "\n",
    "print(k, m, not True, ~1)\n"
   ]
  },
  {
   "cell_type": "markdown",
   "id": "ba1fff03",
   "metadata": {},
   "source": [
    "## Колекції\n",
    "- колекціями називаються типи які можуть в собі мати інші типи даних, або їх набори\n",
    "- list - впорядковані змінні набори даних\n",
    "- на співбесідах дуже часто запитують як поміняти порядок в списку на протилежний"
   ]
  },
  {
   "cell_type": "code",
   "execution_count": null,
   "id": "3c93759e",
   "metadata": {},
   "outputs": [],
   "source": [
    "l = [1, \"1\", \"один\", 1.0, [1, 2, \"Це ми хочемо вивести по індексу\"], 0]\n",
    "print(l[4][2], type(l))\n",
    "l.append(\"Новий елемент\")\n",
    "l.remove(\"один\")\n",
    "l.pop()\n",
    "print(l, \"\\n\", l[3][2])\n",
    "l[0] = [\"Нуль\", 0]\n",
    "print(l)"
   ]
  },
  {
   "cell_type": "code",
   "execution_count": null,
   "id": "86a402a9",
   "metadata": {},
   "outputs": [],
   "source": [
    "rv = [1, 5, 8, 0]\n",
    "rl = rv[::-1]\n",
    "print(rv, rl)\n",
    "# задача на знаходження поліндромів\n",
    "words = [\"ротор\", \"тест\", \"казак\", \"мадам\", \"python\", \"анна\", \"123321\"]\n",
    "for w in words:\n",
    "    w1 = w\n",
    "    w2 = w[::-1]\n",
    "    if w1 == w2:\n",
    "        print(f\"{w1} = {w2} - це поліндром\")\n",
    "    else:\n",
    "        print(f\"{w1} = {w2} - це не поліндром\")"
   ]
  },
  {
   "cell_type": "markdown",
   "id": "1ac9aa00",
   "metadata": {},
   "source": [
    "- стічки деколи поводяться як списки\n",
    "- слайсинг - виокремлення підмножини (набір) з цілого"
   ]
  },
  {
   "cell_type": "code",
   "execution_count": null,
   "id": "8fe7fe6d",
   "metadata": {},
   "outputs": [],
   "source": [
    "s = 'Це стрічка для слайсингу'\n",
    "\n",
    "print(s[0], s[-1], s[3:10], s[-9:])"
   ]
  },
  {
   "cell_type": "markdown",
   "id": "b4604843",
   "metadata": {},
   "source": [
    "- другий тип - tuples - впорядкована колекція незмінних (immutable) елементів"
   ]
  },
  {
   "cell_type": "code",
   "execution_count": null,
   "id": "5a951ac7",
   "metadata": {},
   "outputs": [],
   "source": [
    "t = (1, 2, 3, \"test\", [1, 2, 3], (4, 5, 6))\n",
    "print(t.index(\"test\"))\n",
    "l = list(t)\n",
    "l.append(\"Новий елемент\")\n",
    "print(l)\n",
    "t = tuple(l)\n",
    "print(t[-1][-7:])"
   ]
  },
  {
   "cell_type": "markdown",
   "id": "2713b7a1",
   "metadata": {},
   "source": [
    "- наступні - set - набори - невпорядковані унікальні дані (недопускаються повтори елементів)\n",
    "- pythonic way - так називаються tip and tricks щоб полегшити написання коду на Пайтон"
   ]
  },
  {
   "cell_type": "code",
   "execution_count": null,
   "id": "1f04c22c",
   "metadata": {},
   "outputs": [],
   "source": [
    "s = {1, 'один', \"1\", 'два', 'три', 3, 'три', 3}\n",
    "print(s)\n",
    "l = list([1, 1 , 2 , 2, 3, 3, 4, 4])\n",
    "print(set(l))\n",
    "\n",
    "s2 = {1, True, 0, False, 1.0, 2.0, 2}\n",
    "print(s2)\n",
    "\n",
    "print(s2.pop()) # але не можемо доступатись по індексах s2[0]"
   ]
  },
  {
   "cell_type": "markdown",
   "id": "fa1a0240",
   "metadata": {},
   "source": [
    "- словники - dict - це завжди пари - ключ=значення\n",
    "- всі ключі мають бути унікальними"
   ]
  },
  {
   "cell_type": "code",
   "execution_count": null,
   "id": "d8d6859a",
   "metadata": {},
   "outputs": [],
   "source": [
    "l = [\"один\", \"два\", \"три\"]\n",
    "d = {0: \"один\", 0: \"0\", False: 5+5, 5+5: \"Особливий вивід\", \"0\": \"один\", \"нуль\": \"Це під ключем нуль\", 1: \"два\", 2: \"три\"}\n",
    "print(l[0], type(d), d[0], d[\"нуль\"], d)\n",
    "print(list(d.keys()), d[5+5], d[10])"
   ]
  },
  {
   "cell_type": "markdown",
   "id": "d5b7c445",
   "metadata": {},
   "source": [
    "## Вбудовані константи та конструкції мови та вбудовані функції\n",
    "- зарезервовані слова не можна використовувати для змінних\n",
    "- особлива контанта None\n",
    "- вбудовані функції існують зразу у пайтоні але їх можна перевизначити"
   ]
  },
  {
   "cell_type": "code",
   "execution_count": null,
   "id": "1d9a6b23",
   "metadata": {},
   "outputs": [],
   "source": [
    "#class = 1 #SyntaxError: invalid syntax\n",
    "a = None\n",
    "print(a, type(a))\n",
    "a = 5\n",
    "print(a, type(a))\n",
    "d = {None: \"Значення під None\", 1: \"Значення під 1\"}\n",
    "print(d[None])\n",
    "#None = 5 # SyntaxError: cannot assign to None\n",
    "#print = 5 #Так робити не можна\n",
    "#print(print)\n",
    "t = map(type, [\"Вивід через map\", \"Ще один рядок\", 1, 6.8])\n",
    "list(t)\n",
    "help(list)"
   ]
  },
  {
   "cell_type": "markdown",
   "id": "0eec8a87",
   "metadata": {},
   "source": [
    "# Цикли\n",
    "- є два види циклів: for - це ітераційний цикл, while - це умовний цикл\n",
    "Завдання\n",
    "- імітуємо видання кубика, до поки в нас не випаде значення 6 (за допомгою двох циклів)"
   ]
  },
  {
   "cell_type": "code",
   "execution_count": null,
   "id": "c49c9e37",
   "metadata": {},
   "outputs": [],
   "source": [
    "import random\n",
    "\n",
    "#####\n",
    "dice = None # ініціалізація змінної\n",
    "i = 0\n",
    "while dice != 6:\n",
    "    dice = random.randint(1, 6)\n",
    "    i += 1\n",
    "    print(f\"{i}. Нам випало число на кубику: >> {dice} <<\")"
   ]
  },
  {
   "cell_type": "code",
   "execution_count": null,
   "id": "2586b76a",
   "metadata": {},
   "outputs": [],
   "source": [
    "for j in range(1,100):\n",
    "    dice = random.randint(1, 6)\n",
    "    print(f\"{j}. Нам випало число на кубику: >> {dice} <<\")\n",
    "    if dice == 6:\n",
    "        break"
   ]
  },
  {
   "cell_type": "markdown",
   "id": "87ab3622",
   "metadata": {},
   "source": [
    "Завдання\n",
    "- у нас є пачка M&Ds і ми хочемо перевірити скільки в ній є зелених\n",
    "- в пачці є 100 цукерок, ми витягуємо по одній і перевіряємо чи вона зелена, і рахуємо скільки їх буде"
   ]
  },
  {
   "cell_type": "code",
   "execution_count": null,
   "id": "f0c4b127",
   "metadata": {},
   "outputs": [],
   "source": [
    "mmds = [\"червоний\", \"жовтий\", \"коричневий\", \"зелений\", \"синій\", \"помаранчевий\", \"фіолетовий\"]\n",
    "pack = 50 * mmds\n",
    "random.shuffle(pack)\n",
    "#print(len(pack), pack)\n",
    "\n",
    "i = 0\n",
    "m = 0\n",
    "while i < 100: # це умова величини пачки\n",
    "    m1 = pack[i]\n",
    "    print(f\"{i}. Ми вятягнули {m1} M&Ds\")\n",
    "    i += 1\n",
    "    if m1 == \"зелений\":\n",
    "        m += 1\n",
    "print(f\"Всього зелених M&Ds: {m}\")"
   ]
  },
  {
   "cell_type": "code",
   "execution_count": null,
   "id": "e9034b22",
   "metadata": {},
   "outputs": [],
   "source": [
    "m = 0\n",
    "for j in range(0, 100): # це умова величини пачки\n",
    "    m1 = pack[j]\n",
    "    print(f\"{j}. Ми вятягнули {m1} M&Ds\")\n",
    "    if m1 == \"зелений\":\n",
    "        m += 1\n",
    "print(f\"Всього зелених M&Ds: {m}\")"
   ]
  },
  {
   "cell_type": "code",
   "execution_count": null,
   "id": "add8ffd6",
   "metadata": {},
   "outputs": [],
   "source": [
    "m = 0\n",
    "for m1 in pack[0:100]:\n",
    "    print(f\"Ми вятягнули {m1} M&Ds\")\n",
    "    if m1 == \"зелений\":\n",
    "        m += 1\n",
    "print(f\"Всього зелених M&Ds: {m}\")"
   ]
  },
  {
   "cell_type": "markdown",
   "id": "c8afc531",
   "metadata": {},
   "source": [
    "- використання конструкцій break та continue\n",
    "Завдання\n",
    "- перевірити чи у нас є біла M&Ds"
   ]
  },
  {
   "cell_type": "code",
   "execution_count": null,
   "id": "bc9fe574",
   "metadata": {},
   "outputs": [],
   "source": [
    "for m1 in pack[0:100]:\n",
    "    #print(f\"Ми вятягнули {m1} M&Ds\")\n",
    "    if m1 == \"біла\":\n",
    "        break\n",
    "else: # цей else спрацює якщо цикл завершився без break\n",
    "    print(\"Білих M&Ds не було\")"
   ]
  },
  {
   "cell_type": "code",
   "execution_count": null,
   "id": "3cdf4178",
   "metadata": {},
   "outputs": [],
   "source": [
    "for m1 in pack[0:100]:\n",
    "    #print(f\"Ми вятягнули {m1} M&Ds\")\n",
    "    if m1 == \"зелений\":\n",
    "        continue\n",
    "    #Це буде виконуватись тільки якщо m1 не зелений\n",
    "    print(f\"Ми вятягнули {m1} M&Ds\")"
   ]
  },
  {
   "cell_type": "code",
   "execution_count": 38,
   "id": "43ed11e2",
   "metadata": {},
   "outputs": [
    {
     "name": "stdout",
     "output_type": "stream",
     "text": [
      "m = True j = 1, k = 0\n",
      "m = True j = 2, k = 0\n",
      "m = True j = 2, k = 1\n",
      "m = True j = 3, k = 0\n",
      "m = True j = 3, k = 1\n",
      "m = True j = 3, k = 2\n",
      "m = True j = 4, k = 0\n",
      "m = True j = 4, k = 1\n",
      "m = True j = 4, k = 2\n",
      "m = True j = 4, k = 3\n"
     ]
    }
   ],
   "source": [
    "for j in range(1, 5):\n",
    "    for k in range(0, j):\n",
    "        while m := k-j != 0:\n",
    "            print(f\"m = {m} j = {j}, k = {k}\")\n",
    "            break\n",
    "        else:\n",
    "            print(\"Ніколи виконуватись не буде\")\n",
    "    "
   ]
  }
 ],
 "metadata": {
  "kernelspec": {
   "display_name": "3.13.7",
   "language": "python",
   "name": "python3"
  },
  "language_info": {
   "codemirror_mode": {
    "name": "ipython",
    "version": 3
   },
   "file_extension": ".py",
   "mimetype": "text/x-python",
   "name": "python",
   "nbconvert_exporter": "python",
   "pygments_lexer": "ipython3",
   "version": "3.13.7"
  }
 },
 "nbformat": 4,
 "nbformat_minor": 5
}
