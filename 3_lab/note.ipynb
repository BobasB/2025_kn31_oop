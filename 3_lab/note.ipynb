{
 "cells": [
  {
   "cell_type": "markdown",
   "id": "e2e2b12a",
   "metadata": {},
   "source": [
    "# Знайомство з ООП\n",
    "## Теорія: класи та обєкти\n",
    "- клас - це узагальнення або шаблон того що ми хочемо описати\n",
    "- обєкт - це один екземляр або сутність яка підпадає під опис класу і створена на його основі"
   ]
  },
  {
   "cell_type": "markdown",
   "id": "11518589",
   "metadata": {},
   "source": [
    "## Класичний та ООП підхід\n",
    "- ми хочемо створити ітем в грі який описує зброю типу меч або спис\n",
    "- класичний підхід - викорстовуємо вбудовані типи даних"
   ]
  },
  {
   "cell_type": "code",
   "execution_count": null,
   "id": "85eeb36c",
   "metadata": {},
   "outputs": [],
   "source": [
    "import random\n",
    "\n",
    "dpor_chance = random.randint(1,100)\n",
    "\n",
    "loot_table = {\n",
    "    \"trash\": {\n",
    "        \"name\": \"Поломаний меч\",\n",
    "        \"rarity\": \"grey\",\n",
    "        \"attack_power\": 1,\n",
    "        \"durability\": 0,\n",
    "        \"magic_attribute\": \"Магія Землі\",\n",
    "        \"description\": \"Продати\"\n",
    "    },\n",
    "    \"Sword\": {\n",
    "        \"name\": \"Меч\",\n",
    "        \"rarity\": \"epic\",\n",
    "        \"attack_power\": random.randint(5, 10),\n",
    "        \"durability\": random.randint(40, 60),\n",
    "        \"magic_attribute\": \"Магія Вогню\",\n",
    "        \"description\": \"Епісний меч\"\n",
    "    },\n",
    "    \"Spear\": {\n",
    "        \"name\": \"Спис\",\n",
    "        \"rarity\": \"gold\",\n",
    "        \"attack_power\": random.randint(3, 8),\n",
    "        \"durability\": random.randint(20, 50),\n",
    "        \"magic_attribute\": \"Магія Вітру\",\n",
    "        \"description\": \"Золотий спис\"\n",
    "    },\n",
    "    \"Axe\": {\n",
    "        \"name\": \"Сокири\",\n",
    "        \"rarity\": \"green\",\n",
    "        \"attack_power\": random.randint(4, 6),\n",
    "        \"durability\": random.randint(30, 45),\n",
    "        \"magic_attribute\": \"Магія Природи\",\n",
    "        \"description\": \"Заточена сокира\"\n",
    "    }\n",
    "}\n",
    "\n",
    "if dpor_chance > 50:\n",
    "    i = random.choice(list(loot_table.keys()))\n",
    "    item = loot_table[i]\n",
    "    print(f\"\"\"\n",
    "          Подія: Нам випав ітем:\n",
    "            {item[\"name\"]} з параметрами:\n",
    "            Атака/захист: {item[\"attack_power\"]}/{item[\"durability\"]}\n",
    "            Магічними властивостями: {item[\"magic_attribute\"]}\n",
    "          \"\"\")\n",
    "else:\n",
    "    print(\"Нам не повезло, фармимо далі.\")"
   ]
  },
  {
   "cell_type": "markdown",
   "id": "423174c1",
   "metadata": {},
   "source": [
    "- динамічна робота з обєктами"
   ]
  },
  {
   "cell_type": "code",
   "execution_count": null,
   "id": "a9d28672",
   "metadata": {},
   "outputs": [],
   "source": [
    "class Item:\n",
    "    \"\"\"Це наш клас який описує ітем в грі\"\"\"\n",
    "    pass\n",
    "\n",
    "trash = Item()\n",
    "# додаємо динамічні атрибути\n",
    "trash.name = \"Поломаний меч\"\n",
    "trash.rarity = \"grey\"\n",
    "trash.attack_power = 1\n",
    "trash.durability = 0\n",
    "trash.magic_attribute = \"Магія Землі\"\n",
    "trash.description = \"Продати\"\n",
    "\n",
    "\n",
    "axe = Item()\n",
    "axe.name = \"Сокири\"\n",
    "axe.rarity = \"green\"\n",
    "axe.attack_power = random.randint(4, 6)\n",
    "axe.durability = random.randint(30, 45)\n",
    "axe.magic_attribute = \"Магія Природи\"\n",
    "axe.description = \"Заточена сокира\"\n",
    "\n",
    "for item in [axe, trash]:\n",
    "  print(f\"\"\"\n",
    "            Подія: Нам випав ітем:\n",
    "              {item.name} з параметрами:\n",
    "              Атака/захист: {item.attack_power}/{item.durability}\n",
    "              Магічними властивостями: {item.magic_attribute}\n",
    "            \"\"\")\n"
   ]
  },
  {
   "cell_type": "markdown",
   "id": "d689df3a",
   "metadata": {},
   "source": [
    "- конструктор та атрибути\n",
    "- методи класу"
   ]
  },
  {
   "cell_type": "code",
   "execution_count": null,
   "id": "241ad01a",
   "metadata": {},
   "outputs": [
    {
     "name": "stdout",
     "output_type": "stream",
     "text": [
      "\n",
      "            Подія 0: Нам випав ітем:\n",
      "              Sword з параметрами:\n",
      "              Атака/захист: 4/32\n",
      "              Магічними властивостями: Магія Природи\n",
      "            \n",
      "Застосовуємо предмет: Sword захищається та відновлює міцність до 1\n",
      "\n",
      "            Подія 1: Нам випав ітем:\n",
      "              Bow з параметрами:\n",
      "              Атака/захист: 6/43\n",
      "              Магічними властивостями: Магія Природи\n",
      "            \n",
      "Застосовуємо предмет: Bow наніс 8 шкоди типом Магія Природи\n",
      "\n",
      "            Подія 2: Нам випав ітем:\n",
      "              Spear з параметрами:\n",
      "              Атака/захист: 6/40\n",
      "              Магічними властивостями: Магія Природи\n",
      "            \n",
      "Застосовуємо предмет: Spear захищається та відновлює міцність до 1\n",
      "\n",
      "            Подія 3: Нам випав ітем:\n",
      "              Sword з параметрами:\n",
      "              Атака/захист: 5/39\n",
      "              Магічними властивостями: Магія Природи\n",
      "            \n",
      "Застосовуємо предмет: Sword наніс 7 шкоди типом Магія Природи\n",
      "\n",
      "            Подія 4: Нам випав ітем:\n",
      "              Sword з параметрами:\n",
      "              Атака/захист: 6/34\n",
      "              Магічними властивостями: Магія Природи\n",
      "            \n",
      "Застосовуємо предмет: Sword наніс 8 шкоди типом Магія Природи\n",
      "\n",
      "            Подія 5: Нам випав ітем:\n",
      "              Bow з параметрами:\n",
      "              Атака/захист: 6/40\n",
      "              Магічними властивостями: Магія Природи\n",
      "            \n",
      "Застосовуємо предмет: Bow захищається та відновлює міцність до 1\n",
      "\n",
      "            Подія 6: Нам випав ітем:\n",
      "              trash з параметрами:\n",
      "              Атака/захист: 4/38\n",
      "              Магічними властивостями: Магія Природи\n",
      "            \n",
      "Застосовуємо предмет: trash наніс 6 шкоди типом Магія Природи\n",
      "\n",
      "            Подія 7: Нам випав ітем:\n",
      "              Axe з параметрами:\n",
      "              Атака/захист: 4/34\n",
      "              Магічними властивостями: Магія Природи\n",
      "            \n",
      "Застосовуємо предмет: Axe захищається та відновлює міцність до 1\n",
      "\n",
      "            Подія 8: Нам випав ітем:\n",
      "              trash з параметрами:\n",
      "              Атака/захист: 5/37\n",
      "              Магічними властивостями: Магія Природи\n",
      "            \n",
      "Застосовуємо предмет: trash наніс 7 шкоди типом Магія Природи\n",
      "\n",
      "            Подія 9: Нам випав ітем:\n",
      "              trash з параметрами:\n",
      "              Атака/захист: 4/34\n",
      "              Магічними властивостями: Магія Природи\n",
      "            \n",
      "Застосовуємо предмет: trash наніс 6 шкоди типом Магія Природи\n"
     ]
    }
   ],
   "source": [
    "class Item:\n",
    "    \"\"\"Це наш клас який описує ітем в грі\"\"\"\n",
    "    def __init__(self):\n",
    "        # тепер для кожного обєкта є характерним дані атрибути\n",
    "        self.name = random.choice([\"trash\", \"Axe\", \"Sword\", \"Spear\", \"Bow\", \"Knife\"])\n",
    "        self.rarity = \"green\"\n",
    "        self.attack_power = random.randint(4, 6)\n",
    "        self.durability = random.randint(30, 45)\n",
    "        self.magic_attribute = \"Магія Природи\"\n",
    "        self.description = \"Рандомний предмет зброї\"\n",
    "    \n",
    "    def attack(self):\n",
    "        if \"Магія\" in self.magic_attribute:\n",
    "            attack = self.attack_power + 2\n",
    "        return f\"{self.name} наніс {attack} шкоди типом {self.magic_attribute}\"\n",
    "    \n",
    "    def defence(self):\n",
    "        self.durability =+ 1\n",
    "        return f\"{self.name} захищається та відновлює міцність до {self.durability}\"\n",
    "        \n",
    "\n",
    "for i in range(10):\n",
    "    item = Item()\n",
    "    print(f\"\"\"\n",
    "            Подія {i}: Нам випав ітем:\n",
    "              {item.name} з параметрами:\n",
    "              Атака/захист: {item.attack_power}/{item.durability}\n",
    "              Магічними властивостями: {item.magic_attribute}\n",
    "            \"\"\")\n",
    "    if random.randint(0,1):\n",
    "        print(f\"Застосовуємо предмет: {item.attack()}\")\n",
    "    else:\n",
    "        print(f\"Застосовуємо предмет: {item.defence()}\")\n"
   ]
  },
  {
   "cell_type": "code",
   "execution_count": 13,
   "id": "b100d4a4",
   "metadata": {},
   "outputs": [
    {
     "name": "stdout",
     "output_type": "stream",
     "text": [
      "початкова атака 6\n",
      "Накладаємо баф на наш Sword та збільшуємо атаку до 3\n",
      "Накладаємо баф на наш Sword та збільшуємо атаку до 1\n",
      "Накладаємо баф на наш Sword та збільшуємо атаку до 3\n",
      "Накладаємо баф на наш Sword та збільшуємо атаку до 4\n",
      "Накладаємо баф на наш Sword та збільшуємо атаку до 3\n",
      "Накладаємо баф на наш Sword та збільшуємо атаку до 2\n",
      "Накладаємо баф на наш Sword та збільшуємо атаку до 4\n",
      "Накладаємо баф на наш Sword та збільшуємо атаку до 3\n",
      "Накладаємо баф на наш Sword та збільшуємо атаку до 3\n",
      "Накладаємо баф на наш Sword та збільшуємо атаку до 3\n"
     ]
    }
   ],
   "source": [
    "card = Item()\n",
    "print(f\"початкова атака {card.attack_power}\")\n",
    "for i in range(10):\n",
    "    card.attack_power = random.randint(1,4)\n",
    "    print(f\"Накладаємо баф на наш {card.name} та збільшуємо атаку до {card.attack_power}\")"
   ]
  },
  {
   "cell_type": "markdown",
   "id": "728b086e",
   "metadata": {},
   "source": [
    "- розглянемо властивості (property)\n",
    "- приватні атрибути"
   ]
  },
  {
   "cell_type": "code",
   "execution_count": 33,
   "id": "681e4ee0",
   "metadata": {},
   "outputs": [],
   "source": [
    "class Item:\n",
    "    \"\"\"Це наш клас який описує ітем в грі\"\"\"\n",
    "    def __init__(self):\n",
    "        # тепер для кожного обєкта є характерним дані атрибути\n",
    "        self._initial_durability = random.randint(30, 45)\n",
    "        self.name = random.choice([\"trash\", \"Axe\", \"Sword\", \"Spear\", \"Bow\", \"Knife\"])\n",
    "        self.rarity = \"green\"\n",
    "        self.attack_power = random.randint(4, 6)\n",
    "        self.durability = self._initial_durability\n",
    "        self.magic_attribute = \"Магія Природи\"\n",
    "        self.description = \"Рандомний предмет зброї\"\n",
    "    \n",
    "    @property\n",
    "    def get_attack_power(self):\n",
    "        return self.attack_power\n",
    "    \n",
    "    @property\n",
    "    def get_current_durability(self):\n",
    "        return f\"{self.name} має міцність {self.durability}/{self._initial_durability}\""
   ]
  },
  {
   "cell_type": "code",
   "execution_count": 35,
   "id": "b18e0ecc",
   "metadata": {},
   "outputs": [
    {
     "name": "stdout",
     "output_type": "stream",
     "text": [
      "4 = 4\n",
      "5 5\n"
     ]
    }
   ],
   "source": [
    "card = Item()\n",
    "print(f\"{card.attack_power} = {card.get_attack_power}\")\n",
    "card.attack_power += 1\n",
    "print(card.attack_power, card.get_attack_power)\n",
    "# Це буде помилка\n",
    "#card.get_attack_power = 5"
   ]
  },
  {
   "cell_type": "code",
   "execution_count": 41,
   "id": "7a9f8b34",
   "metadata": {},
   "outputs": [
    {
     "name": "stdout",
     "output_type": "stream",
     "text": [
      "Spear має міцність 33/0\n",
      "Spear має міцність 31/0\n",
      "Spear має міцність 31/0\n",
      "Spear має міцність 31/0\n"
     ]
    }
   ],
   "source": [
    "print(f\"{card.name} має міцність {card.durability}/{card._initial_durability}\")\n",
    "card.durability -= 2\n",
    "print(f\"{card.name} має міцність {card.durability}/{card._initial_durability}\")\n",
    "# так не ажано робити\n",
    "card._initial_durability = 0\n",
    "print(f\"{card.name} має міцність {card.durability}/{card._initial_durability}\")\n",
    "\n",
    "# правильніше виклристовувати приватні атрибути всередині класу\n",
    "print(card.get_current_durability)"
   ]
  }
 ],
 "metadata": {
  "kernelspec": {
   "display_name": "3.13.7",
   "language": "python",
   "name": "python3"
  },
  "language_info": {
   "codemirror_mode": {
    "name": "ipython",
    "version": 3
   },
   "file_extension": ".py",
   "mimetype": "text/x-python",
   "name": "python",
   "nbconvert_exporter": "python",
   "pygments_lexer": "ipython3",
   "version": "3.13.7"
  }
 },
 "nbformat": 4,
 "nbformat_minor": 5
}
